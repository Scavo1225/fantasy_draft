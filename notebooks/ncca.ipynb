{
 "cells": [
  {
   "cell_type": "code",
   "execution_count": 14,
   "metadata": {},
   "outputs": [],
   "source": [
    "import numpy as np\n",
    "import pandas as pd\n",
    "import requests\n",
    "import json"
   ]
  },
  {
   "cell_type": "code",
   "execution_count": 22,
   "metadata": {},
   "outputs": [],
   "source": [
    "#API key and sports level keys\n",
    "api_key = 'f5b363f641555462e69831869cc78c85'\n",
    "\n",
    "#json url for the key by sport\n",
    "BASE_URL = 'https://api.the-odds-api.com'\n",
    "sport_key_url = f'{BASE_URL}/v4/sports/?apiKey={api_key}'"
   ]
  },
  {
   "cell_type": "code",
   "execution_count": 24,
   "metadata": {},
   "outputs": [],
   "source": [
    "#Retrieving sports keys and saving JSON file\n",
    "sport_key_response = requests.get(sport_key_url).json()\n",
    "with open(f'../raw_data/request_keys.json', 'w') as fp:\n",
    "    json.dump(sport_key_response, fp, indent=4)"
   ]
  },
  {
   "cell_type": "code",
   "execution_count": 29,
   "metadata": {},
   "outputs": [],
   "source": [
    "#Setting region as globally the US\n",
    "REGION = 'us'\n",
    "\n",
    "#API Keys by sport\n",
    "# NCAA Football param\n",
    "ncaaf = 'americanfootball_ncaaf'\n",
    "\n",
    "#NCAA Basketball param\n",
    "ncaab = 'basketball_ncaab'\n",
    "\n",
    "#NFL param\n",
    "nfl = 'americanfootball_nfl'\n",
    "\n",
    "#NBA param\n",
    "nba = 'basketball_nba'"
   ]
  },
  {
   "cell_type": "code",
   "execution_count": 26,
   "metadata": {},
   "outputs": [],
   "source": [
    "#Setting markets variable\n",
    "\n",
    "#head to head matchups\n",
    "h2h = 'h2h'\n",
    "total = 'totals'\n",
    "spread = 'spreads'\n",
    "outright = 'outrights'"
   ]
  },
  {
   "cell_type": "code",
   "execution_count": null,
   "metadata": {},
   "outputs": [],
   "source": [
    "'''\n",
    "Live & upcoming odds format:\n",
    "\n",
    "/v4/sports/{sport}/odds/?apiKey={apiKey}&regions={regions}&markets={markets}\n",
    "\n",
    "    '''"
   ]
  },
  {
   "cell_type": "code",
   "execution_count": 30,
   "metadata": {},
   "outputs": [
    {
     "data": {
      "text/plain": [
       "'https://api.the-odds-api.com/v4/sports/basketball_ncaab/odds/?apiKey=f5b363f641555462e69831869cc78c85&regions=us&markets=totals'"
      ]
     },
     "execution_count": 30,
     "metadata": {},
     "output_type": "execute_result"
    }
   ],
   "source": [
    "#Testing a NCAA Basketball call for upcoming over/unders\n",
    "ncaab_test_params = f'/v4/sports/{ncaab}/odds/?apiKey={api_key}&regions={REGION}&markets={total}'\n",
    "ncaab_test_url = BASE_URL + ncaab_test_params\n",
    "# nccab_test = requests.get(ncaab_test_params)json()\n",
    "# with open(f'../NCAAB/tests/test.json', 'w') as f:\n",
    "#     json.dump(nccab_test, f, indent=4)\n",
    "\n",
    "ncaab_test_url"
   ]
  }
 ],
 "metadata": {
  "kernelspec": {
   "display_name": "fantasy_app",
   "language": "python",
   "name": "python3"
  },
  "language_info": {
   "codemirror_mode": {
    "name": "ipython",
    "version": 3
   },
   "file_extension": ".py",
   "mimetype": "text/x-python",
   "name": "python",
   "nbconvert_exporter": "python",
   "pygments_lexer": "ipython3",
   "version": "3.10.6"
  }
 },
 "nbformat": 4,
 "nbformat_minor": 2
}
